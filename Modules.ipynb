{
 "cells": [
  {
   "cell_type": "markdown",
   "id": "2bc2ac73",
   "metadata": {},
   "source": []
  },
  {
   "cell_type": "code",
   "execution_count": 2,
   "id": "11ae68e9",
   "metadata": {},
   "outputs": [
    {
     "name": "stdout",
     "output_type": "stream",
     "text": [
      "11\n"
     ]
    }
   ],
   "source": [
    "#a module in python, is python file with py extension it is llike a section of a physical library it contains functions that are related to one another \n",
    "#We use these modules to break down large program into small manageable and organized files module allows reusability of code.For example : \n",
    "# Function takes in 2 numbers and returns their sum :\n",
    "def add(x,y):\n",
    "    Result =x+y\n",
    "    return(Result)\n",
    "print(add(5,6))\n",
    "\n"
   ]
  },
  {
   "cell_type": "code",
   "execution_count": 9,
   "id": "933edaf3",
   "metadata": {},
   "outputs": [
    {
     "name": "stdout",
     "output_type": "stream",
     "text": [
      "the value of pi is 3.141592653589793\n"
     ]
    }
   ],
   "source": [
    "#We can import a module by renaming it as follows:\n",
    "import math as m\n",
    "print(\"the value of pi is\" , m.pi)\n",
    "# We renamed math module as m\n"
   ]
  },
  {
   "cell_type": "code",
   "execution_count": 7,
   "id": "1ac1e0f5",
   "metadata": {},
   "outputs": [
    {
     "name": "stdout",
     "output_type": "stream",
     "text": [
      "the value of pi is 3.141592653589793\n"
     ]
    }
   ],
   "source": [
    "#We can also import specific names from module without importing the whole module\n",
    "from math import pi\n",
    "print(\"the value of pi is\", pi)\n",
    "#We imported only the pi attribute from math module\n"
   ]
  },
  {
   "cell_type": "code",
   "execution_count": 5,
   "id": "83356585",
   "metadata": {},
   "outputs": [
    {
     "name": "stdout",
     "output_type": "stream",
     "text": [
      "the value of pi is 3.141592653589793\n"
     ]
    }
   ],
   "source": [
    "# We can also  import all names from module using this syntax:Import all names from standard\n",
    "from math import *\n",
    "print(\"the value of pi is\" , pi)\n"
   ]
  },
  {
   "cell_type": "code",
   "execution_count": null,
   "id": "f970381e",
   "metadata": {},
   "outputs": [],
   "source": []
  }
 ],
 "metadata": {
  "kernelspec": {
   "display_name": "Python 3",
   "language": "python",
   "name": "python3"
  },
  "language_info": {
   "codemirror_mode": {
    "name": "ipython",
    "version": 3
   },
   "file_extension": ".py",
   "mimetype": "text/x-python",
   "name": "python",
   "nbconvert_exporter": "python",
   "pygments_lexer": "ipython3",
   "version": "3.7.6"
  }
 },
 "nbformat": 4,
 "nbformat_minor": 5
}
