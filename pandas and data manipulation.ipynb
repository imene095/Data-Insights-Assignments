{
 "cells": [
  {
   "cell_type": "code",
   "execution_count": 3,
   "id": "8da574bf",
   "metadata": {},
   "outputs": [
    {
     "name": "stdout",
     "output_type": "stream",
     "text": [
      "        Name  Age\n",
      "True    Asia   15\n",
      "False  Sarah   20\n",
      "True    Maya   17\n"
     ]
    }
   ],
   "source": [
    "# boolean indexing in pandas (example 1)\n",
    "\n",
    "import pandas as pd\n",
    "# data\n",
    "data = {\n",
    "   'Name': ['Asia', 'Sarah', 'Maya'],\n",
    "   'Age': [15, 20, 17]\n",
    "}\n",
    "# we create  DataFrame with boolean index vector\n",
    "data_frame = pd.DataFrame(data, index = [True, False, True])\n",
    "print(data_frame)\n"
   ]
  },
  {
   "cell_type": "code",
   "execution_count": 5,
   "id": "96328dba",
   "metadata": {},
   "outputs": [
    {
     "name": "stdout",
     "output_type": "stream",
     "text": [
      "Initial DataFrame:\n",
      "     Name  Age  Score\n",
      "0  Corina   13    356\n",
      "1   Molly   39    320\n",
      "2   Tenia   25    301\n",
      "3   Sarah   30    358\n",
      "4   Holly   28    380 \n",
      "\n",
      "DataFrame with Age-Range:\n",
      "     Name  Age  Score     Age-Range\n",
      "0  Corina   13    356           NaN\n",
      "1   Molly   39    320  (30.0, 40.0]\n",
      "2   Tenia   25    301  (20.0, 30.0]\n",
      "3   Sarah   30    358  (20.0, 30.0]\n",
      "4   Holly   28    380  (20.0, 30.0]\n"
     ]
    }
   ],
   "source": [
    "# boolean indexing in pandas ( example 2) :\n",
    "\n",
    "import pandas as pd\n",
    "\n",
    "df = pd.DataFrame({\n",
    "    'Name': [\"Corina\",\"Molly\",\"Tenia\",\"Sarah\",\"Holly\"],\n",
    "    'Age':  [13,39,25,30,28],\n",
    "    'Score': [356, 320, 301, 358,380],\n",
    "})\n",
    "\n",
    "print(\"Initial DataFrame:\")\n",
    "print(df,\"\\n\")\n",
    "\n",
    "df['Age-Range'] = pd.cut(x=df['Age'], bins=[20,30,40,50])\n",
    "\n",
    "print(\"DataFrame with Age-Range:\")\n",
    "print(df)\n"
   ]
  },
  {
   "cell_type": "code",
   "execution_count": null,
   "id": "c67b2fe9",
   "metadata": {},
   "outputs": [],
   "source": []
  },
  {
   "cell_type": "code",
   "execution_count": 8,
   "id": "ba89d797",
   "metadata": {},
   "outputs": [
    {
     "name": "stdout",
     "output_type": "stream",
     "text": [
      "           Name  Age\n",
      "True       Mary   19\n",
      "False  Stephany   20\n",
      "True      Polly   19\n"
     ]
    }
   ],
   "source": [
    "# Boolean indexing in Pandas(example 3) :\n",
    "\n",
    "import pandas as pd\n",
    "# data\n",
    "data = {\n",
    "   'Name': ['Mary', 'Stephany', 'Polly'],\n",
    "   'Age': [19, 20, 19]\n",
    "}\n",
    "# We create a DataFrame with boolean index vector\n",
    "data_frame = pd.DataFrame(data, index = [True, False, True])\n",
    "print(data_frame)\n"
   ]
  },
  {
   "cell_type": "code",
   "execution_count": null,
   "id": "0f595631",
   "metadata": {},
   "outputs": [],
   "source": [
    "# Checking for missing values using isnull() :\n",
    "#importing pandas as pd\n",
    "import pandas as pd\n",
    "# importing numpy as np\n",
    "import numpy as np\n",
    "# dictionary of lists\n",
    "dict = {'First Score':[100, 90, np.nan, 95],\n",
    "        'Second Score': [30, 45, 56, np.nan],\n",
    "        'Third Score':[np.nan, 40, 80, 98]}\n",
    "# creating a dataframe from list\n",
    "df = pd.DataFrame(dict)\n",
    "  \n",
    "# using isnull() function  \n",
    "df.isnull()\n"
   ]
  },
  {
   "cell_type": "code",
   "execution_count": null,
   "id": "42e9d24b",
   "metadata": {},
   "outputs": [],
   "source": [
    "\n"
   ]
  },
  {
   "cell_type": "code",
   "execution_count": null,
   "id": "fac8a6c2",
   "metadata": {},
   "outputs": [],
   "source": [
    "Checking missing values using fillna() :\n",
    "# importing pandas as pd\n",
    "import pandas as pd\n",
    "# importing numpy as np\n",
    "import numpy as np\n",
    "# dictionary of lists\n",
    "dict = {'First Score':[100, 85, np.nan, 93],\n",
    "        'Second Score': [20, 50, 58, np.nan],\n",
    "        'Third Score':[np.nan, 30, 80, 88]}\n",
    "\n",
    "# creating a dataframe from dictionary\n",
    "df = pd.DataFrame(dict)\n",
    "  \n",
    "# filling a missing value with\n",
    "# previous ones  \n",
    "df.fillna(method ='pad')\n",
    "\n"
   ]
  },
  {
   "cell_type": "code",
   "execution_count": null,
   "id": "eeb788e6",
   "metadata": {},
   "outputs": [],
   "source": [
    "\n",
    "# Utilizing Pandas Cut() function to segment the numbers into bins.\n",
    "\n",
    "import numpy as np\n",
    "import pandas as pd\n",
    "df_num1 = pd.DataFrame({'num': np.random.randint(1, 30, 20)})\n",
    "print(df_num1)\n",
    "df_num1['num_bins'] = pd.cut(x=df_num1['num'], bins=[1, 5, 10, 15, 30])\n",
    "print(df_num1)\n",
    "print(df_num1['num_bins'].unique())\n"
   ]
  },
  {
   "cell_type": "code",
   "execution_count": 11,
   "id": "40718518",
   "metadata": {},
   "outputs": [
    {
     "name": "stdout",
     "output_type": "stream",
     "text": [
      "    number\n",
      "0        2\n",
      "1       20\n",
      "2       20\n",
      "3       26\n",
      "4       25\n",
      "5        3\n",
      "6       33\n",
      "7       33\n",
      "8        6\n",
      "9       12\n",
      "10       4\n",
      "11      45\n",
      "12      48\n",
      "13       8\n",
      "14      34\n",
      "15      29\n",
      "16      24\n",
      "17      34\n",
      "18      11\n",
      "19      44\n",
      "20      14\n",
      "21      12\n",
      "22      13\n",
      "23      26\n",
      "24      19\n",
      "25      16\n",
      "26      44\n",
      "27      30\n",
      "28       2\n",
      "29       9\n",
      "    number numbers_labels\n",
      "0        2           Lows\n",
      "1       20           Lows\n",
      "2       20           Lows\n",
      "3       26          Highs\n",
      "4       25          Highs\n",
      "5        3           Lows\n",
      "6       33          Highs\n",
      "7       33          Highs\n",
      "8        6           Lows\n",
      "9       12           Lows\n",
      "10       4           Lows\n",
      "11      45          Highs\n",
      "12      48          Highs\n",
      "13       8           Lows\n",
      "14      34          Highs\n",
      "15      29          Highs\n",
      "16      24           Lows\n",
      "17      34          Highs\n",
      "18      11           Lows\n",
      "19      44          Highs\n",
      "20      14           Lows\n",
      "21      12           Lows\n",
      "22      13           Lows\n",
      "23      26          Highs\n",
      "24      19           Lows\n",
      "25      16           Lows\n",
      "26      44          Highs\n",
      "27      30          Highs\n",
      "28       2           Lows\n",
      "29       9           Lows\n",
      "['Lows', 'Highs']\n",
      "Categories (2, object): ['Lows' < 'Highs']\n"
     ]
    }
   ],
   "source": [
    "# Utilizing Pandas cut() function to label the bins :\n",
    "import numpy as np\n",
    "import pandas as pd\n",
    "df_num1 = pd.DataFrame({'number': np.random.randint(1, 50, 30)})\n",
    "print(df_num1)\n",
    "df_num1['numbers_labels'] = pd.cut(x=df_num1['number'], bins=[1, 25, 50], labels=['Lows', 'Highs'], right=False)\n",
    "print(df_num1)\n",
    "print(df_num1['numbers_labels'].unique())\n"
   ]
  },
  {
   "cell_type": "code",
   "execution_count": null,
   "id": "4104f712",
   "metadata": {},
   "outputs": [],
   "source": []
  },
  {
   "cell_type": "code",
   "execution_count": null,
   "id": "5eb50f46",
   "metadata": {},
   "outputs": [],
   "source": []
  }
 ],
 "metadata": {
  "kernelspec": {
   "display_name": "Python 3",
   "language": "python",
   "name": "python3"
  },
  "language_info": {
   "codemirror_mode": {
    "name": "ipython",
    "version": 3
   },
   "file_extension": ".py",
   "mimetype": "text/x-python",
   "name": "python",
   "nbconvert_exporter": "python",
   "pygments_lexer": "ipython3",
   "version": "3.7.6"
  }
 },
 "nbformat": 4,
 "nbformat_minor": 5
}
