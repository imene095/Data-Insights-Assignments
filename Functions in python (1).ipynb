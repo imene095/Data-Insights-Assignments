{
 "cells": [
  {
   "cell_type": "code",
   "execution_count": 2,
   "id": "c0a37271",
   "metadata": {},
   "outputs": [
    {
     "name": "stdout",
     "output_type": "stream",
     "text": [
      "this is easy\n"
     ]
    }
   ],
   "source": [
    "# The most common function in python is the print function : \n",
    "print(\"this is easy\")"
   ]
  },
  {
   "cell_type": "code",
   "execution_count": null,
   "id": "50b9ec02",
   "metadata": {},
   "outputs": [],
   "source": [
    "#Taking an example , Let us say that you want to write a code that celebrate person birthday by showing his name and his age : "
   ]
  },
  {
   "cell_type": "code",
   "execution_count": 40,
   "id": "a73fce4d",
   "metadata": {},
   "outputs": [
    {
     "name": "stdout",
     "output_type": "stream",
     "text": [
      "happybirthday sara\n",
      "sara is 25 years old\n",
      "I wish you great day :!\n",
      "None\n"
     ]
    }
   ],
   "source": [
    "def birthday(name, age) :\n",
    "      print (\"happybirthday\", name)\n",
    "      print(name, \"is\",age, \"years old\")\n",
    "      print(\"I wish you great day :!\")\n",
    "print(birthday(\"sara\" ,25))            \n",
    "\n"
   ]
  },
  {
   "cell_type": "code",
   "execution_count": null,
   "id": "8a732ee8",
   "metadata": {},
   "outputs": [],
   "source": [
    "# Function takes in 2 numbers and returns their sum :\n",
    "def add(x,y):\n",
    "    Result =x+y\n",
    "    return(Result)\n",
    "print(add(5,6))\n"
   ]
  },
  {
   "cell_type": "code",
   "execution_count": 58,
   "id": "4d4146ae",
   "metadata": {},
   "outputs": [
    {
     "name": "stdout",
     "output_type": "stream",
     "text": [
      "-0.9880316240928618\n",
      "-0.9524129804151563\n"
     ]
    }
   ],
   "source": [
    "\n",
    "# We can create function that creates 2 functions sin_angle and cos_angle . These functions calculate in and cosin of an angle given in degrees\n",
    "\n",
    "import math\n",
    "def sin_angle(x):\n",
    "    Y=math.radians(x)\n",
    "    return math.sin(x)\n",
    "\n",
    "#let us take an example for x=60 :\n",
    "print(sin_angle(30))\n",
    "\n",
    "def cos_angle(x):\n",
    "    Y=math.radians(x)\n",
    "    return math.cos(x)\n",
    "#let us take an example for x=60 :\n",
    "print(cos_angle(60))\n"
   ]
  },
  {
   "cell_type": "code",
   "execution_count": null,
   "id": "70dd08cd",
   "metadata": {},
   "outputs": [],
   "source": []
  },
  {
   "cell_type": "code",
   "execution_count": null,
   "id": "45201e34",
   "metadata": {},
   "outputs": [],
   "source": []
  },
  {
   "cell_type": "code",
   "execution_count": null,
   "id": "e044bff9",
   "metadata": {},
   "outputs": [],
   "source": []
  },
  {
   "cell_type": "code",
   "execution_count": null,
   "id": "8a8f7416",
   "metadata": {},
   "outputs": [],
   "source": []
  },
  {
   "cell_type": "code",
   "execution_count": null,
   "id": "aea6f53b",
   "metadata": {},
   "outputs": [],
   "source": []
  }
 ],
 "metadata": {
  "kernelspec": {
   "display_name": "Python 3",
   "language": "python",
   "name": "python3"
  },
  "language_info": {
   "codemirror_mode": {
    "name": "ipython",
    "version": 3
   },
   "file_extension": ".py",
   "mimetype": "text/x-python",
   "name": "python",
   "nbconvert_exporter": "python",
   "pygments_lexer": "ipython3",
   "version": "3.7.6"
  }
 },
 "nbformat": 4,
 "nbformat_minor": 5
}
