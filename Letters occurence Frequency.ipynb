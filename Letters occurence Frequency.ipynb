{
 "cells": [
  {
   "cell_type": "code",
   "execution_count": null,
   "id": "eb01fcc9",
   "metadata": {},
   "outputs": [],
   "source": [
    "This code was created for counting the frequency of letters occurence in a written word, phrase or expression.\n",
    "\n",
    "star=input(\"enter the word , phrase sentence: \") \n",
    "str=input(\"enter the letter you want to know its occurence :\")\n",
    "print(\"the letter\", str, \"appears\", star.count(str), \"times\")\n",
    "start=input(\"Do you want to enter new word, phrase or senstences again ?:\")\n",
    "while start== \"yes\":\n",
    "  star=input(\"enter the word , phrase sentence: \")  \n",
    "  str=input(\"enter the letter you want to know its occurence :\")\n",
    "  print(\"the letter\", str, \"appears\", star.count(str), \"times\") \n",
    "  if start != \"yes\":\n",
    "    print (\"Thank you!\") \n"
   ]
  }
 ],
 "metadata": {
  "kernelspec": {
   "display_name": "Python 3",
   "language": "python",
   "name": "python3"
  },
  "language_info": {
   "codemirror_mode": {
    "name": "ipython",
    "version": 3
   },
   "file_extension": ".py",
   "mimetype": "text/x-python",
   "name": "python",
   "nbconvert_exporter": "python",
   "pygments_lexer": "ipython3",
   "version": "3.7.6"
  }
 },
 "nbformat": 4,
 "nbformat_minor": 5
}
