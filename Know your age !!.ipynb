{
 "cells": [
  {
   "cell_type": "code",
   "execution_count": 1,
   "id": "95ac422c",
   "metadata": {},
   "outputs": [
    {
     "name": "stdout",
     "output_type": "stream",
     "text": [
      "enter a digit from 2 to 10:8\n",
      "Have you already celebrated your birthday ?:no\n",
      "enter the year of birth:1996\n",
      "your age is 25\n"
     ]
    }
   ],
   "source": [
    "# know you age !\n",
    "#This code allows to determine the users' age by entering the birth year and prior to whether the person have celebrated his birthday or not :\n",
    "\n",
    "num=input(\"enter a digit from 2 to 10:\")\n",
    "birth=input(\"Have you already celebrated your birthday ?:\")\n",
    "if birth==\"yes\":\n",
    "  a= (int(num)*2+5)*50+1771\n",
    "  year=input(\"enter the year of birth:\")\n",
    "  fin= a- int(year)\n",
    "  fina= str(fin)\n",
    "  final=int(fina[1]+ fina[2])\n",
    "  print(\"your age is\" , final)\n",
    "elif birth== \"no\":\n",
    "   a= (int(num)*2+5)*50+1771\n",
    "   year=input(\"enter the year of birth:\")\n",
    "   fin= a- int(year)\n",
    "   fina= str(fin)\n",
    "   final=int(fina[1]+ fina[2])\n",
    "   print(\"your age is\" , final)\n"
   ]
  },
  {
   "cell_type": "code",
   "execution_count": null,
   "id": "a58fffc5",
   "metadata": {},
   "outputs": [],
   "source": []
  }
 ],
 "metadata": {
  "kernelspec": {
   "display_name": "Python 3",
   "language": "python",
   "name": "python3"
  },
  "language_info": {
   "codemirror_mode": {
    "name": "ipython",
    "version": 3
   },
   "file_extension": ".py",
   "mimetype": "text/x-python",
   "name": "python",
   "nbconvert_exporter": "python",
   "pygments_lexer": "ipython3",
   "version": "3.7.6"
  }
 },
 "nbformat": 4,
 "nbformat_minor": 5
}
